{
  "nbformat": 4,
  "nbformat_minor": 0,
  "metadata": {
    "colab": {
      "name": "はじめてのニューラルネットワーク：分類問題の初歩.ipynb",
      "provenance": [],
      "collapsed_sections": [],
      "toc_visible": true,
      "authorship_tag": "ABX9TyNQigQgQw6kt8LASsMFuTiG",
      "include_colab_link": true
    },
    "kernelspec": {
      "name": "python3",
      "display_name": "Python 3"
    }
  },
  "cells": [
    {
      "cell_type": "markdown",
      "metadata": {
        "id": "view-in-github",
        "colab_type": "text"
      },
      "source": [
        "<a href=\"https://colab.research.google.com/github/oq-Yuki-po/TensorFlowTutorial/blob/develop/%E3%81%AF%E3%81%98%E3%82%81%E3%81%A6%E3%81%AE%E3%83%8B%E3%83%A5%E3%83%BC%E3%83%A9%E3%83%AB%E3%83%8D%E3%83%83%E3%83%88%E3%83%AF%E3%83%BC%E3%82%AF%EF%BC%9A%E5%88%86%E9%A1%9E%E5%95%8F%E9%A1%8C%E3%81%AE%E5%88%9D%E6%AD%A9.ipynb\" target=\"_parent\"><img src=\"https://colab.research.google.com/assets/colab-badge.svg\" alt=\"Open In Colab\"/></a>"
      ]
    },
    {
      "cell_type": "markdown",
      "metadata": {
        "id": "f9m9AgQbZ2wP",
        "colab_type": "text"
      },
      "source": [
        "参考URL：https://www.tensorflow.org/tutorials/keras/classification?hl=ja"
      ]
    },
    {
      "cell_type": "markdown",
      "metadata": {
        "id": "KxUlFABTZ8I0",
        "colab_type": "text"
      },
      "source": [
        "## 目標\n",
        "以下のことを行う\n",
        "- 画像を分類するニューラルネットワークを構築する\n",
        "- ニューラルネットワークを訓練する\n",
        "- モデルの性能を評価する"
      ]
    },
    {
      "cell_type": "markdown",
      "metadata": {
        "id": "OoIaqsyJZkp5",
        "colab_type": "text"
      },
      "source": [
        "## 準備"
      ]
    },
    {
      "cell_type": "markdown",
      "metadata": {
        "id": "DROA4y8TahVb",
        "colab_type": "text"
      },
      "source": [
        "### パッケージの用意"
      ]
    },
    {
      "cell_type": "code",
      "metadata": {
        "id": "1LR4afArEFXq",
        "colab_type": "code",
        "colab": {}
      },
      "source": [
        "# TensorFlow と tf.keras のインポート\n",
        "import tensorflow as tf\n",
        "from tensorflow import keras\n",
        "\n",
        "# ヘルパーライブラリのインポート\n",
        "import numpy as np\n",
        "import matplotlib.pyplot as plt"
      ],
      "execution_count": 1,
      "outputs": []
    },
    {
      "cell_type": "code",
      "metadata": {
        "id": "oLF5px_xatqw",
        "colab_type": "code",
        "colab": {
          "base_uri": "https://localhost:8080/",
          "height": 34
        },
        "outputId": "d2c62cb1-5b6f-4e92-d9d6-e10f180a4dfe"
      },
      "source": [
        "# tensorflowのver確認\n",
        "print(tf.__version__)"
      ],
      "execution_count": 2,
      "outputs": [
        {
          "output_type": "stream",
          "text": [
            "2.3.0\n"
          ],
          "name": "stdout"
        }
      ]
    },
    {
      "cell_type": "markdown",
      "metadata": {
        "id": "hvcXIB-iawhJ",
        "colab_type": "text"
      },
      "source": [
        "### データセットを用意\n",
        "今回はFashion-MNISTを使用する  \n",
        "\n",
        "10カテゴリーの白黒画像70,000枚が含まれいる  \n",
        "それぞれは下図のような1枚に付き1種類の衣料品が写っている低解像度（28×28ピクセル）の画像\n",
        "\n",
        "<table>\n",
        "  <tr><td>\n",
        "    <img src=\"https://tensorflow.org/images/fashion-mnist-sprite.png\"\n",
        "         alt=\"Fashion MNIST sprite\"  width=\"600\">\n",
        "  </td></tr>\n",
        "  <tr><td align=\"center\">\n",
        "    <b>Figure 1.</b> <a href=\"https://github.com/zalandoresearch/fashion-mnist\">Fashion-MNIST samples</a> (by Zalando, MIT License).<br/>&nbsp;\n",
        "  </td></tr>\n",
        "</table>\n",
        "\n",
        "画像は28×28のNumPy配列から構成されている  \n",
        "それぞれのピクセルの値は0から255の間の整数  \n",
        "ラベル（label）は、0から9までの整数の配列  \n",
        "それぞれの数字が下表のように、衣料品のクラス（class）に対応  \n",
        "\n",
        "<table>\n",
        "  <tr>\n",
        "    <th>Label</th>\n",
        "    <th>Class</th> \n",
        "  </tr>\n",
        "  <tr>\n",
        "    <td>0</td>\n",
        "    <td>T-shirt/top</td> \n",
        "  </tr>\n",
        "  <tr>\n",
        "    <td>1</td>\n",
        "    <td>Trouser</td> \n",
        "  </tr>\n",
        "    <tr>\n",
        "    <td>2</td>\n",
        "    <td>Pullover</td> \n",
        "  </tr>\n",
        "    <tr>\n",
        "    <td>3</td>\n",
        "    <td>Dress</td> \n",
        "  </tr>\n",
        "    <tr>\n",
        "    <td>4</td>\n",
        "    <td>Coat</td> \n",
        "  </tr>\n",
        "    <tr>\n",
        "    <td>5</td>\n",
        "    <td>Sandal</td> \n",
        "  </tr>\n",
        "    <tr>\n",
        "    <td>6</td>\n",
        "    <td>Shirt</td> \n",
        "  </tr>\n",
        "    <tr>\n",
        "    <td>7</td>\n",
        "    <td>Sneaker</td> \n",
        "  </tr>\n",
        "    <tr>\n",
        "    <td>8</td>\n",
        "    <td>Bag</td> \n",
        "  </tr>\n",
        "    <tr>\n",
        "    <td>9</td>\n",
        "    <td>Ankle boot</td> \n",
        "  </tr>\n",
        "</table>"
      ]
    },
    {
      "cell_type": "code",
      "metadata": {
        "id": "2NNle_ZMEJAZ",
        "colab_type": "code",
        "colab": {}
      },
      "source": [
        "fashion_mnist = keras.datasets.fashion_mnist\n",
        "\n",
        "(train_images, train_labels), (test_images, test_labels) = fashion_mnist.load_data()"
      ],
      "execution_count": 3,
      "outputs": []
    },
    {
      "cell_type": "markdown",
      "metadata": {
        "id": "K2vPf8S3bi22",
        "colab_type": "text"
      },
      "source": [
        "画像はそれぞれ単一のラベルに分類される  \n",
        "データセットには上記のクラス名が含まれていないため、  \n",
        "後で画像を出力するときのためにクラス名を保存しておく"
      ]
    },
    {
      "cell_type": "code",
      "metadata": {
        "id": "FKI8PHVEELZo",
        "colab_type": "code",
        "colab": {}
      },
      "source": [
        "class_names = ['T-shirt/top', 'Trouser', 'Pullover', 'Dress', 'Coat', \n",
        "               'Sandal', 'Shirt', 'Sneaker', 'Bag', 'Ankle boot']"
      ],
      "execution_count": 4,
      "outputs": []
    },
    {
      "cell_type": "markdown",
      "metadata": {
        "id": "28n8dEfucIyy",
        "colab_type": "text"
      },
      "source": [
        "### データの観察"
      ]
    },
    {
      "cell_type": "code",
      "metadata": {
        "id": "n95Wz31jEPRX",
        "colab_type": "code",
        "colab": {
          "base_uri": "https://localhost:8080/",
          "height": 51
        },
        "outputId": "aff836ea-880f-4487-d368-11c83dffe15b"
      },
      "source": [
        "print(train_images.shape)\n",
        "print(test_images.shape)"
      ],
      "execution_count": 5,
      "outputs": [
        {
          "output_type": "stream",
          "text": [
            "(60000, 28, 28)\n",
            "(10000, 28, 28)\n"
          ],
          "name": "stdout"
        }
      ]
    },
    {
      "cell_type": "code",
      "metadata": {
        "id": "Sis6C4MAcXSQ",
        "colab_type": "code",
        "colab": {
          "base_uri": "https://localhost:8080/",
          "height": 265
        },
        "outputId": "88105b04-5f46-4ce7-b5c6-ec085f6aad20"
      },
      "source": [
        "plt.figure()\n",
        "plt.imshow(train_images[0], cmap=plt.cm.binary)\n",
        "plt.colorbar()\n",
        "plt.grid(False)\n",
        "plt.show()"
      ],
      "execution_count": 6,
      "outputs": [
        {
          "output_type": "display_data",
          "data": {
            "image/png": "[encoded data removed]",
            "text/plain": [
              "<Figure size 432x288 with 2 Axes>"
            ]
          },
          "metadata": {
            "tags": [],
            "needs_background": "light"
          }
        }
      ]
    },
    {
      "cell_type": "markdown",
      "metadata": {
        "id": "zQ02BHenciB_",
        "colab_type": "text"
      },
      "source": [
        "### データの前処理\n",
        "\n",
        "画像データの値を0から1までの範囲にスケール"
      ]
    },
    {
      "cell_type": "code",
      "metadata": {
        "id": "Dt_An2Eocd60",
        "colab_type": "code",
        "colab": {}
      },
      "source": [
        "train_images = train_images / 255.0\n",
        "\n",
        "test_images = test_images / 255.0"
      ],
      "execution_count": 7,
      "outputs": []
    },
    {
      "cell_type": "markdown",
      "metadata": {
        "id": "SB7m_4uPc3tr",
        "colab_type": "text"
      },
      "source": [
        "### データの確認"
      ]
    },
    {
      "cell_type": "code",
      "metadata": {
        "id": "Uhwsiqzqcyq9",
        "colab_type": "code",
        "colab": {
          "base_uri": "https://localhost:8080/",
          "height": 589
        },
        "outputId": "bbcf9989-25f6-485c-e686-5c6739a1851c"
      },
      "source": [
        "plt.figure(figsize=(10,10))\n",
        "for i in range(25):\n",
        "    plt.subplot(5,5,i+1)\n",
        "    plt.xticks([])\n",
        "    plt.yticks([])\n",
        "    plt.grid(False)\n",
        "    plt.imshow(train_images[i], cmap=plt.cm.binary)\n",
        "    plt.xlabel(class_names[train_labels[i]])\n",
        "plt.show()"
      ],
      "execution_count": 8,
      "outputs": [
        {
          "output_type": "display_data",
          "data": {
            "image/png": "[encoded data removed]",
            "text/plain": [
              "<Figure size 720x720 with 25 Axes>"
            ]
          },
          "metadata": {
            "tags": []
          }
        }
      ]
    },
    {
      "cell_type": "markdown",
      "metadata": {
        "id": "HVUvaqSHZw3M",
        "colab_type": "text"
      },
      "source": [
        "## モデルの構築・学習"
      ]
    },
    {
      "cell_type": "markdown",
      "metadata": {
        "id": "EX8cGmN1egE1",
        "colab_type": "text"
      },
      "source": [
        "### モデルの構築\n",
        "\n",
        "1.   28✖️28の２次元データを１次元に平滑（へいかつ）化\n",
        "    > tf.keras.layers.Flatten  \n",
        "    > input_shape=(28, 28)で入力されるデータの形を指定している\n",
        "2.   隠れ層の定義\n",
        "    > tf.keras.layers.Dense  \n",
        "    > 128はユニットの数（ニューロンの数）\n",
        "    > activation='relu'は活性化関数ReLUを指定している  \n",
        "    > 他の活性化関数：https://www.tensorflow.org/api_docs/python/tf/keras/activations?hl=ja\n",
        "3.   全結合層の定義\n",
        "    > 最終的に10個クラスに分類するので10を指定する  \n",
        "    > softmaxを活性化関数として使用しているので10個のノードは  \n",
        "    > 今見ている画像が10個のクラスのひとつひとつに属する確率を出力する"
      ]
    },
    {
      "cell_type": "code",
      "metadata": {
        "id": "PwHpO1q3c1G0",
        "colab_type": "code",
        "colab": {}
      },
      "source": [
        "model = keras.Sequential([\n",
        "    keras.layers.Flatten(input_shape=(28, 28)),\n",
        "    keras.layers.Dense(128, activation='relu'),\n",
        "    keras.layers.Dense(10, activation='softmax')\n",
        "])"
      ],
      "execution_count": 9,
      "outputs": []
    },
    {
      "cell_type": "markdown",
      "metadata": {
        "id": "HGLoqeFMyi6N",
        "colab_type": "text"
      },
      "source": [
        "### モデルのコンパイル\n",
        "\n",
        "学習のためのモデルを定義している\n",
        "\n",
        "- optimizer：最適化アルゴリズム\n",
        "    - 今回は`Adam`を指定\n",
        "    - その他の最適化アルゴリズム：https://www.tensorflow.org/api_docs/python/tf/keras/optimizers\n",
        "- loss：損失関数\n",
        "    - 今回は`交差エントロピー`を指定\n",
        "- metrics：学習及びテスト中に定量化される項目\n",
        "    - 今回は`accuracy（正確性）`を指定"
      ]
    },
    {
      "cell_type": "code",
      "metadata": {
        "id": "P2AgcI50ekCN",
        "colab_type": "code",
        "colab": {}
      },
      "source": [
        "model.compile(optimizer='adam', \n",
        "              loss='sparse_categorical_crossentropy',\n",
        "              metrics=['accuracy'])"
      ],
      "execution_count": 10,
      "outputs": []
    },
    {
      "cell_type": "markdown",
      "metadata": {
        "id": "K5O6IRT9y4X4",
        "colab_type": "text"
      },
      "source": [
        "### モデルの訓練"
      ]
    },
    {
      "cell_type": "code",
      "metadata": {
        "id": "G3rLD9S2elxS",
        "colab_type": "code",
        "colab": {
          "base_uri": "https://localhost:8080/",
          "height": 204
        },
        "outputId": "0f886070-88f2-4049-f0cd-69df6a63abb6"
      },
      "source": [
        "model.fit(train_images, train_labels, epochs=5)"
      ],
      "execution_count": 11,
      "outputs": [
        {
          "output_type": "stream",
          "text": [
            "Epoch 1/5\n",
            "1875/1875 [==============================] - 4s 2ms/step - loss: 0.4964 - accuracy: 0.8259\n",
            "Epoch 2/5\n",
            "1875/1875 [==============================] - 3s 2ms/step - loss: 0.3725 - accuracy: 0.8656\n",
            "Epoch 3/5\n",
            "1875/1875 [==============================] - 3s 2ms/step - loss: 0.3336 - accuracy: 0.8787\n",
            "Epoch 4/5\n",
            "1875/1875 [==============================] - 4s 2ms/step - loss: 0.3113 - accuracy: 0.8853\n",
            "Epoch 5/5\n",
            "1875/1875 [==============================] - 4s 2ms/step - loss: 0.2925 - accuracy: 0.8922\n"
          ],
          "name": "stdout"
        },
        {
          "output_type": "execute_result",
          "data": {
            "text/plain": [
              "<tensorflow.python.keras.callbacks.History at 0x7f74fb8965f8>"
            ]
          },
          "metadata": {
            "tags": []
          },
          "execution_count": 11
        }
      ]
    },
    {
      "cell_type": "markdown",
      "metadata": {
        "id": "4O-SJQe0Z5YS",
        "colab_type": "text"
      },
      "source": [
        "## 評価"
      ]
    },
    {
      "cell_type": "markdown",
      "metadata": {
        "id": "wJ8rceBz0o-c",
        "colab_type": "text"
      },
      "source": [
        "### モデルを評価\n",
        "\n",
        "テストデータを使用してモデルを評価する"
      ]
    },
    {
      "cell_type": "code",
      "metadata": {
        "id": "Zq1rOBJ_eqJm",
        "colab_type": "code",
        "colab": {
          "base_uri": "https://localhost:8080/",
          "height": 68
        },
        "outputId": "af8a9e3d-d656-4a43-84c0-681cf82b262a"
      },
      "source": [
        "test_loss, test_acc = model.evaluate(test_images,  test_labels, verbose=2)\n",
        "\n",
        "print('\\nTest accuracy:', test_acc)"
      ],
      "execution_count": 12,
      "outputs": [
        {
          "output_type": "stream",
          "text": [
            "313/313 - 0s - loss: 0.3479 - accuracy: 0.8780\n",
            "\n",
            "Test accuracy: 0.878000020980835\n"
          ],
          "name": "stdout"
        }
      ]
    },
    {
      "cell_type": "markdown",
      "metadata": {
        "id": "ZGC9FW-b0u7j",
        "colab_type": "text"
      },
      "source": [
        "### 予測\n",
        "\n",
        "テストデータを学習したモデルで予測する"
      ]
    },
    {
      "cell_type": "code",
      "metadata": {
        "id": "seAEopwAerqX",
        "colab_type": "code",
        "colab": {}
      },
      "source": [
        "predictions = model.predict(test_images)"
      ],
      "execution_count": 13,
      "outputs": []
    },
    {
      "cell_type": "markdown",
      "metadata": {
        "id": "FUoJj4jDa9kf",
        "colab_type": "text"
      },
      "source": [
        "最初の画像の分類結果  \n",
        "確率として出力されている\n"
      ]
    },
    {
      "cell_type": "code",
      "metadata": {
        "id": "Y13m-YD10zd7",
        "colab_type": "code",
        "colab": {
          "base_uri": "https://localhost:8080/",
          "height": 68
        },
        "outputId": "027b7d98-5069-4267-89bc-4a030085e06c"
      },
      "source": [
        "predictions[0]"
      ],
      "execution_count": 14,
      "outputs": [
        {
          "output_type": "execute_result",
          "data": {
            "text/plain": [
              "array([2.1071783e-06, 2.4513878e-07, 3.5516130e-09, 2.4936966e-07,\n",
              "       6.1619041e-08, 6.4291209e-03, 3.7025956e-08, 2.2654539e-02,\n",
              "       3.6237492e-07, 9.7091323e-01], dtype=float32)"
            ]
          },
          "metadata": {
            "tags": []
          },
          "execution_count": 14
        }
      ]
    },
    {
      "cell_type": "code",
      "metadata": {
        "id": "mpk09vm200xX",
        "colab_type": "code",
        "colab": {
          "base_uri": "https://localhost:8080/",
          "height": 51
        },
        "outputId": "c5b2d96f-97c2-40ab-b109-61759aab6592"
      },
      "source": [
        "# `np.argmax`で配列の中から最大の値（画像の分類されたラベルの番号）を取得  \n",
        "print(f'predicted label : {np.argmax(predictions[0])}')\n",
        "# 正解データを確認\n",
        "print(f'true label : {test_labels[0]}')"
      ],
      "execution_count": 15,
      "outputs": [
        {
          "output_type": "stream",
          "text": [
            "predicted label : 9\n",
            "true label : 9\n"
          ],
          "name": "stdout"
        }
      ]
    },
    {
      "cell_type": "code",
      "metadata": {
        "id": "ALYY49uZaOuw",
        "colab_type": "code",
        "colab": {}
      },
      "source": [
        "def plot_image(i, predictions_array, true_label, img):\n",
        "    \"\"\"\n",
        "    画像を予測確率と共に表示\n",
        "    \"\"\"\n",
        "    predictions_array, true_label, img = predictions_array[i], true_label[i], img[i]\n",
        "    plt.grid(False)\n",
        "    plt.xticks([])\n",
        "    plt.yticks([])\n",
        "\n",
        "    plt.imshow(img, cmap=plt.cm.binary)\n",
        "\n",
        "    predicted_label = np.argmax(predictions_array)\n",
        "    if predicted_label == true_label:\n",
        "        color = 'blue'\n",
        "    else:\n",
        "        color = 'red'\n",
        "\n",
        "    plt.xlabel(\"{} {:2.0f}% ({})\".format(class_names[predicted_label],\n",
        "                                    100*np.max(predictions_array),\n",
        "                                    class_names[true_label]),\n",
        "                                    color=color)\n",
        "\n",
        "def plot_value_array(i, predictions_array, true_label):\n",
        "    \"\"\"\n",
        "    予測結果の棒グラフを作成\n",
        "    \"\"\"\n",
        "    predictions_array, true_label = predictions_array[i], true_label[i]\n",
        "    plt.grid(False)\n",
        "    plt.xticks([])\n",
        "    plt.yticks([])\n",
        "    thisplot = plt.bar(range(10), predictions_array, color=\"#777777\")\n",
        "    plt.ylim([0, 1]) \n",
        "    predicted_label = np.argmax(predictions_array)\n",
        "\n",
        "    thisplot[predicted_label].set_color('red')\n",
        "    thisplot[true_label].set_color('blue')"
      ],
      "execution_count": 16,
      "outputs": []
    },
    {
      "cell_type": "code",
      "metadata": {
        "id": "k-6aMmTVaUKP",
        "colab_type": "code",
        "colab": {
          "base_uri": "https://localhost:8080/",
          "height": 203
        },
        "outputId": "3002b73c-93c3-4346-d130-a426a95ee9fc"
      },
      "source": [
        "# テストデータの最初の画像で表示\n",
        "i = 0\n",
        "plt.figure(figsize=(6,3))\n",
        "plt.subplot(1,2,1)\n",
        "plot_image(i, predictions, test_labels, test_images)\n",
        "plt.subplot(1,2,2)\n",
        "plot_value_array(i, predictions,  test_labels)\n",
        "plt.show()"
      ],
      "execution_count": 17,
      "outputs": [
        {
          "output_type": "display_data",
          "data": {
            "image/png": "[encoded data removed]",
            "text/plain": [
              "<Figure size 432x216 with 2 Axes>"
            ]
          },
          "metadata": {
            "tags": []
          }
        }
      ]
    },
    {
      "cell_type": "code",
      "metadata": {
        "id": "uPOY06H7aWyq",
        "colab_type": "code",
        "colab": {
          "base_uri": "https://localhost:8080/",
          "height": 203
        },
        "outputId": "c7b61a44-2604-4c84-8132-5d9bb2ed921c"
      },
      "source": [
        "# テストデータの13番目の画像で表示\n",
        "i = 12\n",
        "plt.figure(figsize=(6,3))\n",
        "plt.subplot(1,2,1)\n",
        "plot_image(i, predictions, test_labels, test_images)\n",
        "plt.subplot(1,2,2)\n",
        "plot_value_array(i, predictions,  test_labels)\n",
        "plt.show()"
      ],
      "execution_count": 18,
      "outputs": [
        {
          "output_type": "display_data",
          "data": {
            "image/png": "[encoded data removed]",
            "text/plain": [
              "<Figure size 432x216 with 2 Axes>"
            ]
          },
          "metadata": {
            "tags": []
          }
        }
      ]
    },
    {
      "cell_type": "markdown",
      "metadata": {
        "id": "NZQjiueychbH",
        "colab_type": "text"
      },
      "source": [
        "テストデータの15枚で描画を行う"
      ]
    },
    {
      "cell_type": "code",
      "metadata": {
        "id": "PWLiTLF5aYvJ",
        "colab_type": "code",
        "colab": {
          "base_uri": "https://localhost:8080/",
          "height": 589
        },
        "outputId": "f95fe1a1-28b6-44e5-f670-06163f4d09fe"
      },
      "source": [
        "num_rows = 5\n",
        "num_cols = 3\n",
        "num_images = num_rows*num_cols\n",
        "plt.figure(figsize=(2*2*num_cols, 2*num_rows))\n",
        "for i in range(num_images):\n",
        "  plt.subplot(num_rows, 2*num_cols, 2*i+1)\n",
        "  plot_image(i, predictions, test_labels, test_images)\n",
        "  plt.subplot(num_rows, 2*num_cols, 2*i+2)\n",
        "  plot_value_array(i, predictions, test_labels)\n",
        "plt.show()"
      ],
      "execution_count": 19,
      "outputs": [
        {
          "output_type": "display_data",
          "data": {
            "image/png": "[encoded data removed]",
            "text/plain": [
              "<Figure size 864x720 with 30 Axes>"
            ]
          },
          "metadata": {
            "tags": []
          }
        }
      ]
    },
    {
      "cell_type": "markdown",
      "metadata": {
        "id": "Ek1IqsFHdSc-",
        "colab_type": "text"
      },
      "source": [
        "テストデータから画像を１枚取り出して予測を行う"
      ]
    },
    {
      "cell_type": "code",
      "metadata": {
        "id": "2tqtleLTabUX",
        "colab_type": "code",
        "colab": {
          "base_uri": "https://localhost:8080/",
          "height": 34
        },
        "outputId": "f69a438e-d4eb-4619-de1e-b3b6e619e2c2"
      },
      "source": [
        "img = test_images[0]\n",
        "\n",
        "print(img.shape)"
      ],
      "execution_count": 20,
      "outputs": [
        {
          "output_type": "stream",
          "text": [
            "(28, 28)\n"
          ],
          "name": "stdout"
        }
      ]
    },
    {
      "cell_type": "markdown",
      "metadata": {
        "id": "vCTyyntEddCO",
        "colab_type": "text"
      },
      "source": [
        "tf.keras モデルは、サンプルの中のバッチ（batch）あるいは「集まり」について予測を行うように作られている。  \n",
        "そのため、1枚の画像を使う場合でも、リスト化する必要がある。"
      ]
    },
    {
      "cell_type": "code",
      "metadata": {
        "id": "2IWDqLr9dYja",
        "colab_type": "code",
        "colab": {
          "base_uri": "https://localhost:8080/",
          "height": 34
        },
        "outputId": "dcab8355-84cf-46e7-f959-1134b36119d1"
      },
      "source": [
        "# 画像を1枚だけのバッチのメンバーにする\n",
        "img = (np.expand_dims(img,0))\n",
        "\n",
        "print(img.shape)"
      ],
      "execution_count": 21,
      "outputs": [
        {
          "output_type": "stream",
          "text": [
            "(1, 28, 28)\n"
          ],
          "name": "stdout"
        }
      ]
    },
    {
      "cell_type": "code",
      "metadata": {
        "id": "UxM0e_Hndaxy",
        "colab_type": "code",
        "colab": {
          "base_uri": "https://localhost:8080/",
          "height": 51
        },
        "outputId": "513374a8-2fc7-4757-a790-7d10d350751f"
      },
      "source": [
        "predictions_single = model.predict(img)\n",
        "\n",
        "print(predictions_single)"
      ],
      "execution_count": 22,
      "outputs": [
        {
          "output_type": "stream",
          "text": [
            "[[2.1071742e-06 2.4513832e-07 3.5515995e-09 2.4936892e-07 6.1618806e-08\n",
            "  6.4291116e-03 3.7025885e-08 2.2654528e-02 3.6237492e-07 9.7091323e-01]]\n"
          ],
          "name": "stdout"
        }
      ]
    },
    {
      "cell_type": "code",
      "metadata": {
        "id": "y-DX9yeEdj9o",
        "colab_type": "code",
        "colab": {
          "base_uri": "https://localhost:8080/",
          "height": 300
        },
        "outputId": "da302e35-c21c-4efc-dd1b-a37d34e417d5"
      },
      "source": [
        "plot_value_array(0, predictions_single, test_labels)\n",
        "_ = plt.xticks(range(10), class_names, rotation=45)"
      ],
      "execution_count": 23,
      "outputs": [
        {
          "output_type": "display_data",
          "data": {
            "image/png": "[encoded data removed]",
            "text/plain": [
              "<Figure size 432x288 with 1 Axes>"
            ]
          },
          "metadata": {
            "tags": [],
            "needs_background": "light"
          }
        }
      ]
    },
    {
      "cell_type": "code",
      "metadata": {
        "id": "Gd8dEWzDdl3N",
        "colab_type": "code",
        "colab": {
          "base_uri": "https://localhost:8080/",
          "height": 34
        },
        "outputId": "c610c883-4921-4538-a160-ce01a54efb5d"
      },
      "source": [
        "np.argmax(predictions_single[0])"
      ],
      "execution_count": 24,
      "outputs": [
        {
          "output_type": "execute_result",
          "data": {
            "text/plain": [
              "9"
            ]
          },
          "metadata": {
            "tags": []
          },
          "execution_count": 24
        }
      ]
    }
  ]
}