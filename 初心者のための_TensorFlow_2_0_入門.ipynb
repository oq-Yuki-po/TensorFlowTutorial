{
  "nbformat": 4,
  "nbformat_minor": 0,
  "metadata": {
    "colab": {
      "name": "初心者のための TensorFlow 2.0 入門.ipynb",
      "provenance": [],
      "collapsed_sections": [],
      "authorship_tag": "ABX9TyP3XNduBP21Md0gFKDcjnwv",
      "include_colab_link": true
    },
    "kernelspec": {
      "name": "python3",
      "display_name": "Python 3"
    }
  },
  "cells": [
    {
      "cell_type": "markdown",
      "metadata": {
        "id": "view-in-github",
        "colab_type": "text"
      },
      "source": [
        "<a href=\"https://colab.research.google.com/github/oq-Yuki-po/TensorFlowTutorial/blob/develop/%E5%88%9D%E5%BF%83%E8%80%85%E3%81%AE%E3%81%9F%E3%82%81%E3%81%AE_TensorFlow_2_0_%E5%85%A5%E9%96%80.ipynb\" target=\"_parent\"><img src=\"https://colab.research.google.com/assets/colab-badge.svg\" alt=\"Open In Colab\"/></a>"
      ]
    },
    {
      "cell_type": "markdown",
      "metadata": {
        "id": "DB0l_nmV0fBi",
        "colab_type": "text"
      },
      "source": [
        "参考URL：https://www.tensorflow.org/tutorials/quickstart/beginner?hl=ja\n",
        "\n"
      ]
    },
    {
      "cell_type": "markdown",
      "metadata": {
        "id": "3au4Qtl60myi",
        "colab_type": "text"
      },
      "source": [
        "# 目標\n",
        "以下のことを行う\n",
        "- 画像を分類するニューラルネットワークを構築する\n",
        "- このニューラルネットワークを訓練する\n",
        "- モデルの性能を評価する"
      ]
    },
    {
      "cell_type": "markdown",
      "metadata": {
        "id": "R-edpYwC0uax",
        "colab_type": "text"
      },
      "source": [
        "## パッケージの用意"
      ]
    },
    {
      "cell_type": "code",
      "metadata": {
        "id": "ucVPY0Hp0aaR",
        "colab_type": "code",
        "colab": {}
      },
      "source": [
        "import tensorflow as tf\n",
        "import numpy as np\n",
        "import matplotlib.pyplot as plt"
      ],
      "execution_count": 1,
      "outputs": []
    },
    {
      "cell_type": "code",
      "metadata": {
        "id": "lzuVfk4l0_I7",
        "colab_type": "code",
        "colab": {
          "base_uri": "https://localhost:8080/",
          "height": 34
        },
        "outputId": "00254f1b-6f4d-4587-f619-e6092aad5336"
      },
      "source": [
        "# tensorflowのver確認\n",
        "print(tf.__version__)"
      ],
      "execution_count": 2,
      "outputs": [
        {
          "output_type": "stream",
          "text": [
            "2.3.0\n"
          ],
          "name": "stdout"
        }
      ]
    },
    {
      "cell_type": "markdown",
      "metadata": {
        "id": "LZpxSCh61Iw-",
        "colab_type": "text"
      },
      "source": [
        "## データセットを用意\n",
        "今回はMNISTを使用する\n",
        "\n",
        "他のデータセット：https://www.tensorflow.org/api_docs/python/tf/keras/datasets?hl=JA"
      ]
    },
    {
      "cell_type": "code",
      "metadata": {
        "id": "a0ojRPie1Ome",
        "colab_type": "code",
        "colab": {}
      },
      "source": [
        "mnist = tf.keras.datasets.mnist\n",
        "\n",
        "(x_train, y_train), (x_test, y_test) = mnist.load_data()\n",
        "\n",
        "# サンプルを整数から浮動小数点数に変換（0から255を0から1の範囲に変換） \n",
        "x_train, x_test = x_train / 255.0, x_test / 255.0"
      ],
      "execution_count": 3,
      "outputs": []
    },
    {
      "cell_type": "code",
      "metadata": {
        "id": "vqoshvcq1yyL",
        "colab_type": "code",
        "colab": {
          "base_uri": "https://localhost:8080/",
          "height": 51
        },
        "outputId": "347d05b4-393c-44bf-e9e9-59c2f36918fa"
      },
      "source": [
        "# データの形を確認\n",
        "print(x_train.shape)\n",
        "print(x_test.shape)"
      ],
      "execution_count": 4,
      "outputs": [
        {
          "output_type": "stream",
          "text": [
            "(60000, 28, 28)\n",
            "(10000, 28, 28)\n"
          ],
          "name": "stdout"
        }
      ]
    },
    {
      "cell_type": "markdown",
      "metadata": {
        "id": "EuBrypWU3JQt",
        "colab_type": "text"
      },
      "source": [
        "- 訓練データ：60000枚\n",
        "- テストデータ：10000枚"
      ]
    },
    {
      "cell_type": "markdown",
      "metadata": {
        "id": "63_2Ien21tZh",
        "colab_type": "text"
      },
      "source": [
        "## モデルの構築"
      ]
    },
    {
      "cell_type": "markdown",
      "metadata": {
        "id": "790nreCs3j2Y",
        "colab_type": "text"
      },
      "source": [
        "### 処理の流れ\n",
        "\n",
        "\n",
        "1.   28✖️28の２次元データを１次元に平滑（へいかつ）化\n",
        "    > tf.keras.layers.Flatten  \n",
        "    > input_shape=(28, 28)で入力されるデータの形を指定している\n",
        "2.   隠れ層の定義\n",
        "    > tf.keras.layers.Dense  \n",
        "    > 128はユニットの数（ニューロンの数）\n",
        "    > activation='relu'は活性化関数　ReLUを指定している  \n",
        "    > 他の活性化関数：https://www.tensorflow.org/api_docs/python/tf/keras/activations?hl=ja\n",
        "3.   ドロップアウトの定義\n",
        "    > 過学習を防ぐためにランダムにいくつかのニューロンを無効にする\n",
        "    > 0.2で2割を無効にする\n",
        "4.   全結合層の定義\n",
        "    > 最終的に10個クラスに分類するので10を指定する"
      ]
    },
    {
      "cell_type": "code",
      "metadata": {
        "id": "bCaq7rz61sr0",
        "colab_type": "code",
        "colab": {}
      },
      "source": [
        "model = tf.keras.models.Sequential([\n",
        "  tf.keras.layers.Flatten(input_shape=(28, 28)),\n",
        "  tf.keras.layers.Dense(128, activation='relu'),\n",
        "  tf.keras.layers.Dropout(0.2),\n",
        "  tf.keras.layers.Dense(10)\n",
        "])"
      ],
      "execution_count": 5,
      "outputs": []
    },
    {
      "cell_type": "markdown",
      "metadata": {
        "id": "Nbhfth9_7M7w",
        "colab_type": "text"
      },
      "source": [
        "### 学習前の予測\n",
        "\n",
        "クラスごとに\"ロジット\"や\"対数オッズ比\"と呼ばれるスコアを算出する"
      ]
    },
    {
      "cell_type": "markdown",
      "metadata": {
        "id": "yZQWgE2BZvix",
        "colab_type": "text"
      },
      "source": [
        "#### 予測するデータを可視化\n",
        "\n",
        "数字の5かな？？"
      ]
    },
    {
      "cell_type": "code",
      "metadata": {
        "id": "_5Uu5JWLY49C",
        "colab_type": "code",
        "colab": {
          "base_uri": "https://localhost:8080/",
          "height": 265
        },
        "outputId": "8e0eb3c8-4ce5-4c99-8e19-65811f8483cd"
      },
      "source": [
        "plt.figure()\n",
        "plt.imshow(x_train[0] * 255, cmap=\"gray\")\n",
        "plt.grid(False)\n",
        "plt.show()"
      ],
      "execution_count": 6,
      "outputs": [
        {
          "output_type": "display_data",
          "data": {
            "image/png": "[encoded data removed]",
            "text/plain": [
              "<Figure size 432x288 with 1 Axes>"
            ]
          },
          "metadata": {
            "tags": [],
            "needs_background": "light"
          }
        }
      ]
    },
    {
      "cell_type": "markdown",
      "metadata": {
        "id": "NrAJe5afadhB",
        "colab_type": "text"
      },
      "source": [
        "#### 学習前のモデルで予測"
      ]
    },
    {
      "cell_type": "code",
      "metadata": {
        "id": "x8F5MjvX7Jhu",
        "colab_type": "code",
        "colab": {
          "base_uri": "https://localhost:8080/",
          "height": 68
        },
        "outputId": "b5fc90af-04c4-4814-9574-6c50e3012568"
      },
      "source": [
        "predictions = model(x_train[:1]).numpy()\n",
        "predictions"
      ],
      "execution_count": 7,
      "outputs": [
        {
          "output_type": "execute_result",
          "data": {
            "text/plain": [
              "array([[-0.21802238,  0.2598156 , -0.4770103 , -0.05525459,  0.06075118,\n",
              "         0.15736756, -0.14129621,  0.4870325 ,  0.44391733,  0.05036739]],\n",
              "      dtype=float32)"
            ]
          },
          "metadata": {
            "tags": []
          },
          "execution_count": 7
        }
      ]
    },
    {
      "cell_type": "markdown",
      "metadata": {
        "id": "4ULwhbdwakpC",
        "colab_type": "text"
      },
      "source": [
        "#### 予測時の投入するデータの形\n",
        "`x_train[0]`だと形が合わないので注意"
      ]
    },
    {
      "cell_type": "code",
      "metadata": {
        "id": "QTixy9zcaDju",
        "colab_type": "code",
        "colab": {
          "base_uri": "https://localhost:8080/",
          "height": 51
        },
        "outputId": "5979d656-766d-46fb-97d7-2d344ee0d111"
      },
      "source": [
        "print(x_train[0].shape)\n",
        "print(x_train[:1].shape)"
      ],
      "execution_count": 8,
      "outputs": [
        {
          "output_type": "stream",
          "text": [
            "(28, 28)\n",
            "(1, 28, 28)\n"
          ],
          "name": "stdout"
        }
      ]
    },
    {
      "cell_type": "markdown",
      "metadata": {
        "id": "n6ZJNAWc7kTb",
        "colab_type": "text"
      },
      "source": [
        "#### スコアを確率に変換"
      ]
    },
    {
      "cell_type": "code",
      "metadata": {
        "id": "GyOo9q_s7KbQ",
        "colab_type": "code",
        "colab": {
          "base_uri": "https://localhost:8080/",
          "height": 68
        },
        "outputId": "86ba8ec6-1693-4f10-97e2-adca29b3de50"
      },
      "source": [
        "predictions_probability = tf.nn.softmax(predictions).numpy()\n",
        "print(predictions_probability)\n",
        "# 予測された確率から最大要素のインデックスを取得\n",
        "np.argmax(predictions_probability)"
      ],
      "execution_count": 9,
      "outputs": [
        {
          "output_type": "stream",
          "text": [
            "[[0.07305478 0.11780699 0.05638605 0.0859682  0.09654249 0.10633554\n",
            "  0.07888064 0.1478598  0.14162028 0.0955452 ]]\n"
          ],
          "name": "stdout"
        },
        {
          "output_type": "execute_result",
          "data": {
            "text/plain": [
              "7"
            ]
          },
          "metadata": {
            "tags": []
          },
          "execution_count": 9
        }
      ]
    },
    {
      "cell_type": "markdown",
      "metadata": {
        "id": "yuNPECSd8kyB",
        "colab_type": "text"
      },
      "source": [
        "## 損失関数の定義"
      ]
    },
    {
      "cell_type": "markdown",
      "metadata": {
        "id": "PmWoeDWDcZzk",
        "colab_type": "text"
      },
      "source": [
        "#### 損失関数\n",
        "\n",
        "交差エントロピーを採用している\n",
        "\n",
        "他の損失関数：https://www.tensorflow.org/api_docs/python/tf/keras/losses?hl=ja"
      ]
    },
    {
      "cell_type": "code",
      "metadata": {
        "id": "J1OJ6Stc8E9W",
        "colab_type": "code",
        "colab": {}
      },
      "source": [
        "loss_fn = tf.keras.losses.SparseCategoricalCrossentropy(from_logits=True)"
      ],
      "execution_count": 10,
      "outputs": []
    },
    {
      "cell_type": "code",
      "metadata": {
        "id": "wih2nKWt8poi",
        "colab_type": "code",
        "colab": {
          "base_uri": "https://localhost:8080/",
          "height": 34
        },
        "outputId": "d330c10c-8458-4e9c-c174-72280a034040"
      },
      "source": [
        "loss_fn(y_train[:1], predictions).numpy()"
      ],
      "execution_count": 11,
      "outputs": [
        {
          "output_type": "execute_result",
          "data": {
            "text/plain": [
              "2.2411556"
            ]
          },
          "metadata": {
            "tags": []
          },
          "execution_count": 11
        }
      ]
    },
    {
      "cell_type": "markdown",
      "metadata": {
        "id": "N2cq8aOYdeJl",
        "colab_type": "text"
      },
      "source": [
        "#### モデルのコンパイル\n",
        "学習のためのモデルを定義している\n",
        "\n",
        "- optimizer：最適化アルゴリズム\n",
        "    - 今回は`Adam`を指定\n",
        "    - その他の最適化アルゴリズム：https://www.tensorflow.org/api_docs/python/tf/keras/optimizers\n",
        "- loss：損失関数\n",
        "    - 今回は`交差エントロピー`を指定\n",
        "- metrics：学習及びテスト中に定量化される項目\n",
        "    - 今回は`accuracy（正確性）`を指定"
      ]
    },
    {
      "cell_type": "code",
      "metadata": {
        "id": "yYGDtVEL8sIX",
        "colab_type": "code",
        "colab": {}
      },
      "source": [
        "model.compile(optimizer='adam',\n",
        "              loss=loss_fn,\n",
        "              metrics=['accuracy'])"
      ],
      "execution_count": 12,
      "outputs": []
    },
    {
      "cell_type": "markdown",
      "metadata": {
        "id": "JukL-lXbf_Ua",
        "colab_type": "text"
      },
      "source": [
        "#### モデルの学習\n",
        "エポックを5にして学習を行う  \n",
        "エポック：１つの訓練データを何回繰り返して学習させるか」の数のこと"
      ]
    },
    {
      "cell_type": "code",
      "metadata": {
        "id": "2DzWIFvh8t6B",
        "colab_type": "code",
        "colab": {
          "base_uri": "https://localhost:8080/",
          "height": 204
        },
        "outputId": "0e18d1d5-35d4-493f-efca-209976d4d1a2"
      },
      "source": [
        "model.fit(x_train, y_train, epochs=5)"
      ],
      "execution_count": 13,
      "outputs": [
        {
          "output_type": "stream",
          "text": [
            "Epoch 1/5\n",
            "1875/1875 [==============================] - 3s 2ms/step - loss: 0.2978 - accuracy: 0.9144\n",
            "Epoch 2/5\n",
            "1875/1875 [==============================] - 3s 2ms/step - loss: 0.1393 - accuracy: 0.9589\n",
            "Epoch 3/5\n",
            "1875/1875 [==============================] - 3s 2ms/step - loss: 0.1054 - accuracy: 0.9685\n",
            "Epoch 4/5\n",
            "1875/1875 [==============================] - 3s 2ms/step - loss: 0.0854 - accuracy: 0.9733\n",
            "Epoch 5/5\n",
            "1875/1875 [==============================] - 3s 2ms/step - loss: 0.0753 - accuracy: 0.9762\n"
          ],
          "name": "stdout"
        },
        {
          "output_type": "execute_result",
          "data": {
            "text/plain": [
              "<tensorflow.python.keras.callbacks.History at 0x7f004bf1ab00>"
            ]
          },
          "metadata": {
            "tags": []
          },
          "execution_count": 13
        }
      ]
    },
    {
      "cell_type": "markdown",
      "metadata": {
        "id": "JyuT9PS7gS9q",
        "colab_type": "text"
      },
      "source": [
        "#### モデルの性能評価\n",
        "\n",
        "テストデータを使用してモデルの損失値と正確性を算出する  \n",
        "`verbose`はプログレスバーを表示するかどうかのオプション  \n",
        "今回のモデルはテストデータにおいて97%の正解率を示している"
      ]
    },
    {
      "cell_type": "code",
      "metadata": {
        "id": "4Bd2F6P78v9i",
        "colab_type": "code",
        "colab": {
          "base_uri": "https://localhost:8080/",
          "height": 51
        },
        "outputId": "74b2a279-059d-4bde-ed64-8b6423f46232"
      },
      "source": [
        "model.evaluate(x_test,  y_test, verbose=1)"
      ],
      "execution_count": 14,
      "outputs": [
        {
          "output_type": "stream",
          "text": [
            "313/313 [==============================] - 0s 1ms/step - loss: 0.0718 - accuracy: 0.9780\n"
          ],
          "name": "stdout"
        },
        {
          "output_type": "execute_result",
          "data": {
            "text/plain": [
              "[0.07178077101707458, 0.9779999852180481]"
            ]
          },
          "metadata": {
            "tags": []
          },
          "execution_count": 14
        }
      ]
    },
    {
      "cell_type": "markdown",
      "metadata": {
        "id": "5zwyTinPh4DV",
        "colab_type": "text"
      },
      "source": [
        "#### モデルの出力を変更\n",
        "数値ではなく確率を出力する場合"
      ]
    },
    {
      "cell_type": "code",
      "metadata": {
        "id": "EGaa_y-28zbu",
        "colab_type": "code",
        "colab": {}
      },
      "source": [
        "probability_model = tf.keras.Sequential([\n",
        "  model,\n",
        "  tf.keras.layers.Softmax()\n",
        "])"
      ],
      "execution_count": 15,
      "outputs": []
    },
    {
      "cell_type": "code",
      "metadata": {
        "id": "YOQSyaPt826J",
        "colab_type": "code",
        "colab": {
          "base_uri": "https://localhost:8080/",
          "height": 592
        },
        "outputId": "15eb4d7b-8bb4-4b0b-a037-57cd41e35e9d"
      },
      "source": [
        "predictions = probability_model(x_test[:5])\n",
        "\n",
        "# 予測と正解を可視化して比べてみる\n",
        "for index, prediction in enumerate(predictions):\n",
        "    print(f'予測：{np.argmax(prediction)} 正解：{y_test[index]}')\n",
        "    ax = plt.subplot(3, 3, index + 1)\n",
        "    plt.imshow(x_test[index] * 255, cmap=\"gray\")\n",
        "    plt.show()"
      ],
      "execution_count": 16,
      "outputs": [
        {
          "output_type": "stream",
          "text": [
            "予測：7 正解：7\n"
          ],
          "name": "stdout"
        },
        {
          "output_type": "display_data",
          "data": {
            "image/png": "[encoded data removed]",
            "text/plain": [
              "<Figure size 432x288 with 1 Axes>"
            ]
          },
          "metadata": {
            "tags": [],
            "needs_background": "light"
          }
        },
        {
          "output_type": "stream",
          "text": [
            "予測：2 正解：2\n"
          ],
          "name": "stdout"
        },
        {
          "output_type": "display_data",
          "data": {
            "image/png": "[encoded data removed]",
            "text/plain": [
              "<Figure size 432x288 with 1 Axes>"
            ]
          },
          "metadata": {
            "tags": [],
            "needs_background": "light"
          }
        },
        {
          "output_type": "stream",
          "text": [
            "予測：1 正解：1\n"
          ],
          "name": "stdout"
        },
        {
          "output_type": "display_data",
          "data": {
            "image/png": "[encoded data removed]",
            "text/plain": [
              "<Figure size 432x288 with 1 Axes>"
            ]
          },
          "metadata": {
            "tags": [],
            "needs_background": "light"
          }
        },
        {
          "output_type": "stream",
          "text": [
            "予測：0 正解：0\n"
          ],
          "name": "stdout"
        },
        {
          "output_type": "display_data",
          "data": {
            "image/png": "[encoded data removed]",
            "text/plain": [
              "<Figure size 432x288 with 1 Axes>"
            ]
          },
          "metadata": {
            "tags": [],
            "needs_background": "light"
          }
        },
        {
          "output_type": "stream",
          "text": [
            "予測：4 正解：4\n"
          ],
          "name": "stdout"
        },
        {
          "output_type": "display_data",
          "data": {
            "image/png": "[encoded data removed]",
            "text/plain": [
              "<Figure size 432x288 with 1 Axes>"
            ]
          },
          "metadata": {
            "tags": [],
            "needs_background": "light"
          }
        }
      ]
    }
  ]
}