{
  "nbformat": 4,
  "nbformat_minor": 0,
  "metadata": {
    "colab": {
      "name": "映画レビューのテキスト分類.ipynb",
      "provenance": [],
      "collapsed_sections": [],
      "toc_visible": true,
      "authorship_tag": "ABX9TyMMO/Mlu29Io/auav4b8Xfv",
      "include_colab_link": true
    },
    "kernelspec": {
      "name": "python3",
      "display_name": "Python 3"
    }
  },
  "cells": [
    {
      "cell_type": "markdown",
      "metadata": {
        "id": "view-in-github",
        "colab_type": "text"
      },
      "source": [
        "<a href=\"https://colab.research.google.com/github/oq-Yuki-po/TensorFlowTutorial/blob/develop/%E6%98%A0%E7%94%BB%E3%83%AC%E3%83%93%E3%83%A5%E3%83%BC%E3%81%AE%E3%83%86%E3%82%AD%E3%82%B9%E3%83%88%E5%88%86%E9%A1%9E.ipynb\" target=\"_parent\"><img src=\"https://colab.research.google.com/assets/colab-badge.svg\" alt=\"Open In Colab\"/></a>"
      ]
    },
    {
      "cell_type": "markdown",
      "metadata": {
        "id": "Bxd6eoUkgECI",
        "colab_type": "text"
      },
      "source": [
        "参考URL：https://www.tensorflow.org/tutorials/keras/text_classification?hl=ja"
      ]
    },
    {
      "cell_type": "markdown",
      "metadata": {
        "id": "6uzKz_D1gaGm",
        "colab_type": "text"
      },
      "source": [
        "## 目標\n",
        "以下のことを行う\n",
        "- 映画のレビューをそのテキストを使って肯定的か否定的かに分類\n",
        "- 肯定的か否定的かに分類するニューラルネットワークを構築する（二値分類）\n",
        "- ニューラルネットワークを訓練する\n",
        "- モデルの性能を評価する"
      ]
    },
    {
      "cell_type": "markdown",
      "metadata": {
        "id": "eoDOwP5ZojzQ",
        "colab_type": "text"
      },
      "source": [
        "## 準備"
      ]
    },
    {
      "cell_type": "markdown",
      "metadata": {
        "id": "aGOG9Q4-nmVN",
        "colab_type": "text"
      },
      "source": [
        "### パッケージの用意"
      ]
    },
    {
      "cell_type": "code",
      "metadata": {
        "id": "x69jaok2gYRj",
        "colab_type": "code",
        "colab": {}
      },
      "source": [
        "import tensorflow as tf\n",
        "from tensorflow import keras\n",
        "\n",
        "import numpy as np"
      ],
      "execution_count": null,
      "outputs": []
    },
    {
      "cell_type": "code",
      "metadata": {
        "id": "ad9Ec3KAnosM",
        "colab_type": "code",
        "colab": {
          "base_uri": "https://localhost:8080/",
          "height": 34
        },
        "outputId": "7b5f39ba-5020-4227-b007-2c01ee792f9a"
      },
      "source": [
        "# tensorflowのver確認\n",
        "print(tf.__version__)"
      ],
      "execution_count": null,
      "outputs": [
        {
          "output_type": "stream",
          "text": [
            "2.3.0\n"
          ],
          "name": "stdout"
        }
      ]
    },
    {
      "cell_type": "markdown",
      "metadata": {
        "id": "L_NKDccnnuuF",
        "colab_type": "text"
      },
      "source": [
        "### データセットの用意\n",
        "IMDBデータセットを使用する  \n",
        "`num_words=10000`は最も頻繁に出現する単語10,000個を保持するためのもの  \n",
        "データサイズを管理可能にするため、稀にしか出現しない単語は破棄される\n"
      ]
    },
    {
      "cell_type": "code",
      "metadata": {
        "id": "2jK-xO8fnsv2",
        "colab_type": "code",
        "colab": {
          "base_uri": "https://localhost:8080/",
          "height": 51
        },
        "outputId": "93141180-6a3d-467c-e009-0351bb8a1b77"
      },
      "source": [
        "imdb = keras.datasets.imdb\n",
        "\n",
        "(train_data, train_labels), (test_data, test_labels) = imdb.load_data(num_words=10000)"
      ],
      "execution_count": null,
      "outputs": [
        {
          "output_type": "stream",
          "text": [
            "Downloading data from https://storage.googleapis.com/tensorflow/tf-keras-datasets/imdb.npz\n",
            "17465344/17464789 [==============================] - 0s 0us/step\n"
          ],
          "name": "stdout"
        }
      ]
    },
    {
      "cell_type": "markdown",
      "metadata": {
        "id": "2diu4kiRodNQ",
        "colab_type": "text"
      },
      "source": [
        "### データの観察"
      ]
    },
    {
      "cell_type": "code",
      "metadata": {
        "id": "r9f_bY1qn9xO",
        "colab_type": "code",
        "colab": {
          "base_uri": "https://localhost:8080/",
          "height": 34
        },
        "outputId": "bf3d0f1e-6c19-449a-9511-d3e35a5deb12"
      },
      "source": [
        "print(\"Training entries: {}, labels: {}\".format(len(train_data), len(train_labels)))"
      ],
      "execution_count": null,
      "outputs": [
        {
          "output_type": "stream",
          "text": [
            "Training entries: 25000, labels: 25000\n"
          ],
          "name": "stdout"
        }
      ]
    },
    {
      "cell_type": "markdown",
      "metadata": {
        "id": "F4pqtcCdo9zn",
        "colab_type": "text"
      },
      "source": [
        "データは映画レビューの中の単語を表す整数の配列と肯定か否定のラベルが付与されている  \n",
        "0が否定的レビュー、1が肯定的なレビューを示す"
      ]
    },
    {
      "cell_type": "code",
      "metadata": {
        "id": "pCVB2n8Uor8r",
        "colab_type": "code",
        "colab": {
          "base_uri": "https://localhost:8080/",
          "height": 54
        },
        "outputId": "3c62082e-0875-46b4-f97a-68014b4c9190"
      },
      "source": [
        "print(train_data[0])"
      ],
      "execution_count": null,
      "outputs": [
        {
          "output_type": "stream",
          "text": [
            "[1, 14, 22, 16, 43, 530, 973, 1622, 1385, 65, 458, 4468, 66, 3941, 4, 173, 36, 256, 5, 25, 100, 43, 838, 112, 50, 670, 2, 9, 35, 480, 284, 5, 150, 4, 172, 112, 167, 2, 336, 385, 39, 4, 172, 4536, 1111, 17, 546, 38, 13, 447, 4, 192, 50, 16, 6, 147, 2025, 19, 14, 22, 4, 1920, 4613, 469, 4, 22, 71, 87, 12, 16, 43, 530, 38, 76, 15, 13, 1247, 4, 22, 17, 515, 17, 12, 16, 626, 18, 2, 5, 62, 386, 12, 8, 316, 8, 106, 5, 4, 2223, 5244, 16, 480, 66, 3785, 33, 4, 130, 12, 16, 38, 619, 5, 25, 124, 51, 36, 135, 48, 25, 1415, 33, 6, 22, 12, 215, 28, 77, 52, 5, 14, 407, 16, 82, 2, 8, 4, 107, 117, 5952, 15, 256, 4, 2, 7, 3766, 5, 723, 36, 71, 43, 530, 476, 26, 400, 317, 46, 7, 4, 2, 1029, 13, 104, 88, 4, 381, 15, 297, 98, 32, 2071, 56, 26, 141, 6, 194, 7486, 18, 4, 226, 22, 21, 134, 476, 26, 480, 5, 144, 30, 5535, 18, 51, 36, 28, 224, 92, 25, 104, 4, 226, 65, 16, 38, 1334, 88, 12, 16, 283, 5, 16, 4472, 113, 103, 32, 15, 16, 5345, 19, 178, 32]\n"
          ],
          "name": "stdout"
        }
      ]
    },
    {
      "cell_type": "code",
      "metadata": {
        "id": "oB73ixsWowil",
        "colab_type": "code",
        "colab": {
          "base_uri": "https://localhost:8080/",
          "height": 34
        },
        "outputId": "fcaf4495-1000-4a62-d89e-ab0bc95b19c8"
      },
      "source": [
        "print(train_labels[0])"
      ],
      "execution_count": null,
      "outputs": [
        {
          "output_type": "stream",
          "text": [
            "1\n"
          ],
          "name": "stdout"
        }
      ]
    },
    {
      "cell_type": "markdown",
      "metadata": {
        "id": "jXyWeOS9pOjM",
        "colab_type": "text"
      },
      "source": [
        "映画のレビューはデータごとに長さが異なっている  \n",
        "ニューラルネットへの入力は同じ長さにしないといけないので解決しなければならない"
      ]
    },
    {
      "cell_type": "code",
      "metadata": {
        "id": "hqScu1L2o2t-",
        "colab_type": "code",
        "colab": {
          "base_uri": "https://localhost:8080/",
          "height": 34
        },
        "outputId": "e78a5856-2d09-464c-c9ec-ef6fa38cb834"
      },
      "source": [
        "len(train_data[0]), len(train_data[1])"
      ],
      "execution_count": null,
      "outputs": [
        {
          "output_type": "execute_result",
          "data": {
            "text/plain": [
              "(218, 189)"
            ]
          },
          "metadata": {
            "tags": []
          },
          "execution_count": 8
        }
      ]
    },
    {
      "cell_type": "markdown",
      "metadata": {
        "id": "io53FveYpnHc",
        "colab_type": "text"
      },
      "source": [
        "### 整数を単語に戻してみる"
      ]
    },
    {
      "cell_type": "code",
      "metadata": {
        "id": "xBPCw5vppNbx",
        "colab_type": "code",
        "colab": {
          "base_uri": "https://localhost:8080/",
          "height": 51
        },
        "outputId": "1a40ea09-e2be-4f90-80fb-db588cc39567"
      },
      "source": [
        "# 単語を整数にマッピングする辞書\n",
        "word_index = imdb.get_word_index()\n",
        "\n",
        "# インデックスの最初の方は予約済み\n",
        "word_index = {k:(v+3) for k,v in word_index.items()} \n",
        "word_index[\"<PAD>\"] = 0\n",
        "word_index[\"<START>\"] = 1\n",
        "word_index[\"<UNK>\"] = 2  # unknown\n",
        "word_index[\"<UNUSED>\"] = 3\n",
        "\n",
        "reverse_word_index = dict([(value, key) for (key, value) in word_index.items()])\n",
        "\n",
        "def decode_review(text):\n",
        "    return ' '.join([reverse_word_index.get(i, '?') for i in text])"
      ],
      "execution_count": null,
      "outputs": [
        {
          "output_type": "stream",
          "text": [
            "Downloading data from https://storage.googleapis.com/tensorflow/tf-keras-datasets/imdb_word_index.json\n",
            "1646592/1641221 [==============================] - 0s 0us/step\n"
          ],
          "name": "stdout"
        }
      ]
    },
    {
      "cell_type": "code",
      "metadata": {
        "id": "QIEfRj5ipyCn",
        "colab_type": "code",
        "colab": {
          "base_uri": "https://localhost:8080/",
          "height": 103
        },
        "outputId": "1451bd68-9e6f-4d82-9388-1203afefebae"
      },
      "source": [
        "decode_review(train_data[0])"
      ],
      "execution_count": null,
      "outputs": [
        {
          "output_type": "execute_result",
          "data": {
            "application/vnd.google.colaboratory.intrinsic+json": {
              "type": "string"
            },
            "text/plain": [
              "\"<START> this film was just brilliant casting location scenery story direction everyone's really suited the part they played and you could just imagine being there robert <UNK> is an amazing actor and now the same being director <UNK> father came from the same scottish island as myself so i loved the fact there was a real connection with this film the witty remarks throughout the film were great it was just brilliant so much that i bought the film as soon as it was released for <UNK> and would recommend it to everyone to watch and the fly fishing was amazing really cried at the end it was so sad and you know what they say if you cry at a film it must have been good and this definitely was also <UNK> to the two little boy's that played the <UNK> of norman and paul they were just brilliant children are often left out of the <UNK> list i think because the stars that play them all grown up are such a big profile for the whole film but these children are amazing and should be praised for what they have done don't you think the whole story was so lovely because it was true and was someone's life after all that was shared with us all\""
            ]
          },
          "metadata": {
            "tags": []
          },
          "execution_count": 10
        }
      ]
    },
    {
      "cell_type": "markdown",
      "metadata": {
        "id": "NmIF64mjY3h_",
        "colab_type": "text"
      },
      "source": [
        "### レビューのデータをテンソルに変換\n",
        "\n",
        "ニューラルネットに入力するデータの形を整える方法は主に２つ\n",
        "\n",
        "- 配列をワンホット（one-hot）エンコーディングと同じように、単語の出現を表す0と1のベクトルに変換  \n",
        "例えば、[3, 5]という配列は、インデックス3と5を除いてすべてゼロの10,000次元のベクトルになる  \n",
        "そして、これをネットワークの最初の層、すなわち、浮動小数点のベクトルデータを扱うことができるDense（全結合）層とする  \n",
        "ただし、これは単語数×レビュー数の行列が必要なメモリ集約的な方法  \n",
        "\n",
        "- 配列をパディングによって同じ長さに揃え、サンプル数 * 長さの最大値の形の整数テンソルする  \n",
        "そして、この形式を扱うことができるEmbedding（埋め込み）層をネットワークの最初の層にする\n",
        "\n",
        "このチュートリアルでは、後者を採用\n",
        "\n",
        "長さを標準化するのに`pad_sequences`関数を使用する  \n",
        "参考：[シーケンスの前処理 - Keras Documentation](https://keras.io/ja/preprocessing/sequence/)\n",
        "\n",
        "- value：パディングする値\n",
        "- padding：パディングする位置（preまたはpost）\n",
        "- maxlen：配列の長さの最大長 指定しなければ与えられた配列の中の最大長に合わせられる\n"
      ]
    },
    {
      "cell_type": "code",
      "metadata": {
        "id": "MSZtWDUopz49",
        "colab_type": "code",
        "colab": {}
      },
      "source": [
        "train_data = keras.preprocessing.sequence.pad_sequences(train_data,\n",
        "                                                        value=word_index[\"<PAD>\"],\n",
        "                                                        padding='post',\n",
        "                                                        maxlen=256)\n",
        "\n",
        "test_data = keras.preprocessing.sequence.pad_sequences(test_data,\n",
        "                                                       value=word_index[\"<PAD>\"],\n",
        "                                                       padding='post',\n",
        "                                                       maxlen=256)"
      ],
      "execution_count": null,
      "outputs": []
    },
    {
      "cell_type": "code",
      "metadata": {
        "id": "tvVZ2p6JXT9F",
        "colab_type": "code",
        "colab": {
          "base_uri": "https://localhost:8080/",
          "height": 34
        },
        "outputId": "f15a1d1b-3d5d-490e-e85a-6252649f3476"
      },
      "source": [
        "# 長さが揃っていることを確認\n",
        "len(train_data[0]), len(train_data[1])"
      ],
      "execution_count": null,
      "outputs": [
        {
          "output_type": "execute_result",
          "data": {
            "text/plain": [
              "(256, 256)"
            ]
          },
          "metadata": {
            "tags": []
          },
          "execution_count": 12
        }
      ]
    },
    {
      "cell_type": "code",
      "metadata": {
        "id": "daBSunNIXxnM",
        "colab_type": "code",
        "colab": {
          "base_uri": "https://localhost:8080/",
          "height": 340
        },
        "outputId": "85b88d99-61f9-4c02-a3be-b64cd60f7f23"
      },
      "source": [
        "# パディング済みの最初のデータを確認\n",
        "print(train_data[0])"
      ],
      "execution_count": null,
      "outputs": [
        {
          "output_type": "stream",
          "text": [
            "[   1   14   22   16   43  530  973 1622 1385   65  458 4468   66 3941\n",
            "    4  173   36  256    5   25  100   43  838  112   50  670    2    9\n",
            "   35  480  284    5  150    4  172  112  167    2  336  385   39    4\n",
            "  172 4536 1111   17  546   38   13  447    4  192   50   16    6  147\n",
            " 2025   19   14   22    4 1920 4613  469    4   22   71   87   12   16\n",
            "   43  530   38   76   15   13 1247    4   22   17  515   17   12   16\n",
            "  626   18    2    5   62  386   12    8  316    8  106    5    4 2223\n",
            " 5244   16  480   66 3785   33    4  130   12   16   38  619    5   25\n",
            "  124   51   36  135   48   25 1415   33    6   22   12  215   28   77\n",
            "   52    5   14  407   16   82    2    8    4  107  117 5952   15  256\n",
            "    4    2    7 3766    5  723   36   71   43  530  476   26  400  317\n",
            "   46    7    4    2 1029   13  104   88    4  381   15  297   98   32\n",
            " 2071   56   26  141    6  194 7486   18    4  226   22   21  134  476\n",
            "   26  480    5  144   30 5535   18   51   36   28  224   92   25  104\n",
            "    4  226   65   16   38 1334   88   12   16  283    5   16 4472  113\n",
            "  103   32   15   16 5345   19  178   32    0    0    0    0    0    0\n",
            "    0    0    0    0    0    0    0    0    0    0    0    0    0    0\n",
            "    0    0    0    0    0    0    0    0    0    0    0    0    0    0\n",
            "    0    0    0    0]\n"
          ],
          "name": "stdout"
        }
      ]
    },
    {
      "cell_type": "markdown",
      "metadata": {
        "id": "oceyJdUoa9py",
        "colab_type": "text"
      },
      "source": [
        "## モデルの構築\n",
        "\n",
        "1.   Embedding（埋め込み）層\n",
        "    > keras.layers.Embedding  \n",
        "    > 整数にエンコードされた語彙を受け取り、それぞれの単語インデックスに対応する埋め込みベクトルを検索する\n",
        "    > 埋め込みベクトルは、モデルの訓練の中で学習される  \n",
        "    > ベクトル化のために、出力行列には次元が１つ追加される  \n",
        "    > その結果、次元は（batch, sequence, embedding）となる  \n",
        "    > 簡単に言うと、文章を入力として各々の単語をベクトル表現したものを返す\n",
        "2.   GlobalAveragePooling1D（１次元のグローバル平均プーリング）層\n",
        "    > keras.layers.GlobalAveragePooling1D  \n",
        "    > GlobalAveragePooling1D（１次元のグローバル平均プーリング）層  \n",
        "    > それぞれのサンプルについて、シーケンスの次元方向に平均値をもとめ、固定長のベクトルを返す\n",
        "    > 簡単に言うと、単語のベクトルの次元ごとに平均値を取る（情報量の圧縮）\n",
        "3.   全結合層の定義\n",
        "    > 16個の隠れユニットを持つ全結合層\n",
        "    > activation='relu'は活性化関数ReLUを指定している  \n",
        "4.   全結合（分類）層の定義\n",
        "    > １つの出力ノードに全結合をする\n",
        "    > 活性化関数にシグモイド（sigmoid）を使用することで、出力される値は確率あるいは確信度を表す０と１の間の浮動小数点となる"
      ]
    },
    {
      "cell_type": "code",
      "metadata": {
        "id": "H_eECT61Xzlw",
        "colab_type": "code",
        "colab": {
          "base_uri": "https://localhost:8080/",
          "height": 289
        },
        "outputId": "9f40df79-0df6-4a5a-9dc2-6666763cf406"
      },
      "source": [
        "# 入力の形式は映画レビューで使われている語彙数（10,000語）\n",
        "vocab_size = 10000\n",
        "\n",
        "model = keras.Sequential()\n",
        "model.add(keras.layers.Embedding(vocab_size, 16))\n",
        "model.add(keras.layers.GlobalAveragePooling1D())\n",
        "model.add(keras.layers.Dense(16, activation='relu'))\n",
        "model.add(keras.layers.Dense(1, activation='sigmoid'))\n",
        "\n",
        "model.summary()"
      ],
      "execution_count": null,
      "outputs": [
        {
          "output_type": "stream",
          "text": [
            "Model: \"sequential\"\n",
            "_________________________________________________________________\n",
            "Layer (type)                 Output Shape              Param #   \n",
            "=================================================================\n",
            "embedding (Embedding)        (None, None, 16)          160000    \n",
            "_________________________________________________________________\n",
            "global_average_pooling1d (Gl (None, 16)                0         \n",
            "_________________________________________________________________\n",
            "dense (Dense)                (None, 16)                272       \n",
            "_________________________________________________________________\n",
            "dense_1 (Dense)              (None, 1)                 17        \n",
            "=================================================================\n",
            "Total params: 160,289\n",
            "Trainable params: 160,289\n",
            "Non-trainable params: 0\n",
            "_________________________________________________________________\n"
          ],
          "name": "stdout"
        }
      ]
    },
    {
      "cell_type": "markdown",
      "metadata": {
        "id": "Tf85_dQ1gwik",
        "colab_type": "text"
      },
      "source": [
        "### 隠れユニット\n",
        "\n",
        "上記のモデルには、入力と出力の間に、2つの中間層あるいは「隠れ」層がある  \n",
        "出力（ユニット、ノード、またはニューロン）は、その層の内部表現の次元数  \n",
        "言い換えると、このネットワークが学習によって内部表現を獲得する際の自由度ということ  \n",
        "\n",
        "モデルにより多くの隠れユニットがある場合（内部表現空間の次元数がより大きい場合）、  \n",
        "または、より多くの層がある場合、あるいはその両方の場合、ネットワークはより複雑な内部表現を学習することができる  \n",
        "しかし、その結果として、ネットワークの計算量が多くなるほか、学習してほしくないパターンを学習するようになる  \n",
        "学習してほしくないパターンとは、訓練データでの性能は向上するもののテスト用データの性能が向上しないパターン  \n",
        "この問題を過学習（overfitting）という"
      ]
    },
    {
      "cell_type": "markdown",
      "metadata": {
        "id": "8fnZSE-yhbbV",
        "colab_type": "text"
      },
      "source": [
        "### モデルのコンパイル\n",
        "\n",
        "学習のためのモデルを定義している\n",
        "\n",
        "- optimizer：最適化アルゴリズム\n",
        "    - 今回は`Adam`を指定\n",
        "    - その他の最適化アルゴリズム：https://www.tensorflow.org/api_docs/python/tf/keras/optimizers\n",
        "- loss：損失関数\n",
        "    - 今回は`２値の交差エントロピー`を指定\n",
        "- metrics：学習及びテスト中に定量化される項目\n",
        "    - 今回は`accuracy（正確性）`を指定"
      ]
    },
    {
      "cell_type": "code",
      "metadata": {
        "id": "jN-O6L0-bl1t",
        "colab_type": "code",
        "colab": {}
      },
      "source": [
        "model.compile(optimizer='adam',\n",
        "              loss='binary_crossentropy',\n",
        "              metrics=['accuracy'])"
      ],
      "execution_count": null,
      "outputs": []
    },
    {
      "cell_type": "markdown",
      "metadata": {
        "id": "82PivO2rhtlm",
        "colab_type": "text"
      },
      "source": [
        "## 検証"
      ]
    },
    {
      "cell_type": "markdown",
      "metadata": {
        "id": "ZapzpCTNh12u",
        "colab_type": "text"
      },
      "source": [
        "### 検証用のデータを作成  \n",
        "\n",
        "訓練を行う際、モデルが見ていないデータでの正解率を検証する  \n",
        "もとの訓練用データから、10,000個のサンプルを取り分けて検証用データ（validation set）を作成する  \n",
        "検証用のデータはモデル構築時のハイパーパラメータの調整などに使用する  "
      ]
    },
    {
      "cell_type": "code",
      "metadata": {
        "id": "eydvM4bwbpb1",
        "colab_type": "code",
        "colab": {}
      },
      "source": [
        "x_val = train_data[:10000]\n",
        "partial_x_train = train_data[10000:]\n",
        "\n",
        "y_val = train_labels[:10000]\n",
        "partial_y_train = train_labels[10000:]"
      ],
      "execution_count": null,
      "outputs": []
    },
    {
      "cell_type": "markdown",
      "metadata": {
        "id": "adQYH7gLiadD",
        "colab_type": "text"
      },
      "source": [
        "### モデルの学習\n",
        "\n",
        "512個のサンプルからなるミニバッチを使って、40エポックモデルを訓練する  \n",
        "この結果、x_trainとy_trainに含まれるすべてのサンプルを40回繰り返すことになる  \n",
        "訓練中、検証用データの10,000サンプルを用いて、モデルの損失と正解率をモニタリングする"
      ]
    },
    {
      "cell_type": "code",
      "metadata": {
        "id": "2MaEOa6sbq4b",
        "colab_type": "code",
        "colab": {
          "base_uri": "https://localhost:8080/",
          "height": 1000
        },
        "outputId": "c877756e-7a37-447d-f565-7659e8f8f461"
      },
      "source": [
        "history = model.fit(partial_x_train,\n",
        "                    partial_y_train,\n",
        "                    epochs=40,\n",
        "                    batch_size=512,\n",
        "                    validation_data=(x_val, y_val),\n",
        "                    verbose=1)"
      ],
      "execution_count": null,
      "outputs": [
        {
          "output_type": "stream",
          "text": [
            "Epoch 1/40\n",
            "30/30 [==============================] - 1s 21ms/step - loss: 0.6916 - accuracy: 0.5446 - val_loss: 0.6894 - val_accuracy: 0.6478\n",
            "Epoch 2/40\n",
            "30/30 [==============================] - 0s 16ms/step - loss: 0.6855 - accuracy: 0.7160 - val_loss: 0.6815 - val_accuracy: 0.6852\n",
            "Epoch 3/40\n",
            "30/30 [==============================] - 1s 17ms/step - loss: 0.6726 - accuracy: 0.7333 - val_loss: 0.6651 - val_accuracy: 0.7548\n",
            "Epoch 4/40\n",
            "30/30 [==============================] - 1s 17ms/step - loss: 0.6499 - accuracy: 0.7683 - val_loss: 0.6393 - val_accuracy: 0.7636\n",
            "Epoch 5/40\n",
            "30/30 [==============================] - 1s 17ms/step - loss: 0.6166 - accuracy: 0.7867 - val_loss: 0.6045 - val_accuracy: 0.7791\n",
            "Epoch 6/40\n",
            "30/30 [==============================] - 1s 17ms/step - loss: 0.5747 - accuracy: 0.8083 - val_loss: 0.5650 - val_accuracy: 0.7975\n",
            "Epoch 7/40\n",
            "30/30 [==============================] - 0s 16ms/step - loss: 0.5286 - accuracy: 0.8265 - val_loss: 0.5212 - val_accuracy: 0.8165\n",
            "Epoch 8/40\n",
            "30/30 [==============================] - 0s 16ms/step - loss: 0.4819 - accuracy: 0.8442 - val_loss: 0.4807 - val_accuracy: 0.8285\n",
            "Epoch 9/40\n",
            "30/30 [==============================] - 1s 17ms/step - loss: 0.4382 - accuracy: 0.8589 - val_loss: 0.4438 - val_accuracy: 0.8415\n",
            "Epoch 10/40\n",
            "30/30 [==============================] - 0s 16ms/step - loss: 0.3996 - accuracy: 0.8721 - val_loss: 0.4133 - val_accuracy: 0.8496\n",
            "Epoch 11/40\n",
            "30/30 [==============================] - 1s 17ms/step - loss: 0.3673 - accuracy: 0.8774 - val_loss: 0.3887 - val_accuracy: 0.8570\n",
            "Epoch 12/40\n",
            "30/30 [==============================] - 0s 16ms/step - loss: 0.3398 - accuracy: 0.8895 - val_loss: 0.3682 - val_accuracy: 0.8625\n",
            "Epoch 13/40\n",
            "30/30 [==============================] - 0s 16ms/step - loss: 0.3159 - accuracy: 0.8935 - val_loss: 0.3524 - val_accuracy: 0.8652\n",
            "Epoch 14/40\n",
            "30/30 [==============================] - 0s 16ms/step - loss: 0.2961 - accuracy: 0.8995 - val_loss: 0.3388 - val_accuracy: 0.8710\n",
            "Epoch 15/40\n",
            "30/30 [==============================] - 0s 16ms/step - loss: 0.2785 - accuracy: 0.9049 - val_loss: 0.3282 - val_accuracy: 0.8741\n",
            "Epoch 16/40\n",
            "30/30 [==============================] - 0s 16ms/step - loss: 0.2631 - accuracy: 0.9095 - val_loss: 0.3192 - val_accuracy: 0.8768\n",
            "Epoch 17/40\n",
            "30/30 [==============================] - 1s 17ms/step - loss: 0.2500 - accuracy: 0.9136 - val_loss: 0.3129 - val_accuracy: 0.8769\n",
            "Epoch 18/40\n",
            "30/30 [==============================] - 0s 16ms/step - loss: 0.2371 - accuracy: 0.9185 - val_loss: 0.3064 - val_accuracy: 0.8809\n",
            "Epoch 19/40\n",
            "30/30 [==============================] - 0s 16ms/step - loss: 0.2255 - accuracy: 0.9233 - val_loss: 0.3010 - val_accuracy: 0.8815\n",
            "Epoch 20/40\n",
            "30/30 [==============================] - 1s 17ms/step - loss: 0.2155 - accuracy: 0.9265 - val_loss: 0.2976 - val_accuracy: 0.8829\n",
            "Epoch 21/40\n",
            "30/30 [==============================] - 1s 17ms/step - loss: 0.2060 - accuracy: 0.9290 - val_loss: 0.2942 - val_accuracy: 0.8823\n",
            "Epoch 22/40\n",
            "30/30 [==============================] - 0s 17ms/step - loss: 0.1962 - accuracy: 0.9331 - val_loss: 0.2914 - val_accuracy: 0.8844\n",
            "Epoch 23/40\n",
            "30/30 [==============================] - 1s 17ms/step - loss: 0.1877 - accuracy: 0.9374 - val_loss: 0.2894 - val_accuracy: 0.8838\n",
            "Epoch 24/40\n",
            "30/30 [==============================] - 1s 17ms/step - loss: 0.1794 - accuracy: 0.9421 - val_loss: 0.2877 - val_accuracy: 0.8850\n",
            "Epoch 25/40\n",
            "30/30 [==============================] - 1s 17ms/step - loss: 0.1724 - accuracy: 0.9442 - val_loss: 0.2867 - val_accuracy: 0.8854\n",
            "Epoch 26/40\n",
            "30/30 [==============================] - 0s 16ms/step - loss: 0.1653 - accuracy: 0.9479 - val_loss: 0.2862 - val_accuracy: 0.8854\n",
            "Epoch 27/40\n",
            "30/30 [==============================] - 1s 17ms/step - loss: 0.1583 - accuracy: 0.9515 - val_loss: 0.2866 - val_accuracy: 0.8842\n",
            "Epoch 28/40\n",
            "30/30 [==============================] - 1s 17ms/step - loss: 0.1520 - accuracy: 0.9536 - val_loss: 0.2867 - val_accuracy: 0.8859\n",
            "Epoch 29/40\n",
            "30/30 [==============================] - 1s 17ms/step - loss: 0.1459 - accuracy: 0.9563 - val_loss: 0.2868 - val_accuracy: 0.8861\n",
            "Epoch 30/40\n",
            "30/30 [==============================] - 0s 16ms/step - loss: 0.1402 - accuracy: 0.9582 - val_loss: 0.2882 - val_accuracy: 0.8860\n",
            "Epoch 31/40\n",
            "30/30 [==============================] - 1s 17ms/step - loss: 0.1347 - accuracy: 0.9597 - val_loss: 0.2887 - val_accuracy: 0.8863\n",
            "Epoch 32/40\n",
            "30/30 [==============================] - 1s 17ms/step - loss: 0.1295 - accuracy: 0.9625 - val_loss: 0.2899 - val_accuracy: 0.8862\n",
            "Epoch 33/40\n",
            "30/30 [==============================] - 1s 17ms/step - loss: 0.1249 - accuracy: 0.9634 - val_loss: 0.2919 - val_accuracy: 0.8856\n",
            "Epoch 34/40\n",
            "30/30 [==============================] - 1s 18ms/step - loss: 0.1198 - accuracy: 0.9657 - val_loss: 0.2939 - val_accuracy: 0.8858\n",
            "Epoch 35/40\n",
            "30/30 [==============================] - 1s 17ms/step - loss: 0.1155 - accuracy: 0.9677 - val_loss: 0.2957 - val_accuracy: 0.8850\n",
            "Epoch 36/40\n",
            "30/30 [==============================] - 1s 18ms/step - loss: 0.1109 - accuracy: 0.9691 - val_loss: 0.2988 - val_accuracy: 0.8850\n",
            "Epoch 37/40\n",
            "30/30 [==============================] - 1s 17ms/step - loss: 0.1068 - accuracy: 0.9709 - val_loss: 0.3005 - val_accuracy: 0.8837\n",
            "Epoch 38/40\n",
            "30/30 [==============================] - 1s 19ms/step - loss: 0.1030 - accuracy: 0.9718 - val_loss: 0.3045 - val_accuracy: 0.8829\n",
            "Epoch 39/40\n",
            "30/30 [==============================] - 0s 17ms/step - loss: 0.0997 - accuracy: 0.9733 - val_loss: 0.3077 - val_accuracy: 0.8816\n",
            "Epoch 40/40\n",
            "30/30 [==============================] - 1s 17ms/step - loss: 0.0952 - accuracy: 0.9751 - val_loss: 0.3088 - val_accuracy: 0.8828\n"
          ],
          "name": "stdout"
        }
      ]
    },
    {
      "cell_type": "markdown",
      "metadata": {
        "id": "eslkfMnFitQS",
        "colab_type": "text"
      },
      "source": [
        "### モデルの評価\n",
        "\n",
        "2つの値が返される\n",
        "- 損失（エラーを示す数値であり、小さい方が良い）\n",
        "- 正解率"
      ]
    },
    {
      "cell_type": "code",
      "metadata": {
        "id": "3_WPwwsybs29",
        "colab_type": "code",
        "colab": {
          "base_uri": "https://localhost:8080/",
          "height": 51
        },
        "outputId": "a93d78a2-c624-4f94-ae93-591d9937006e"
      },
      "source": [
        "results = model.evaluate(test_data,  test_labels, verbose=2)\n",
        "\n",
        "print(results)"
      ],
      "execution_count": null,
      "outputs": [
        {
          "output_type": "stream",
          "text": [
            "782/782 - 1s - loss: 0.3297 - accuracy: 0.8723\n",
            "[0.32968297600746155, 0.8723199963569641]\n"
          ],
          "name": "stdout"
        }
      ]
    },
    {
      "cell_type": "markdown",
      "metadata": {
        "id": "3PK_wcIji7Pu",
        "colab_type": "text"
      },
      "source": [
        "### 正解率と損失の時系列グラフを描く\n",
        "\n",
        "学習の経過を可視化する  \n",
        "どのように学習が進んでいるのかを可視化することで過学習などを起こしているか見つけやすくなる  \n",
        "`model.fit()` は、訓練中に発生したすべてのことを記録した辞書を含むHistory オブジェクトを返す"
      ]
    },
    {
      "cell_type": "code",
      "metadata": {
        "id": "HwH4QF52bvYr",
        "colab_type": "code",
        "colab": {
          "base_uri": "https://localhost:8080/",
          "height": 34
        },
        "outputId": "bd8ae261-d83d-439f-983a-40b124324cb3"
      },
      "source": [
        "history_dict = history.history\n",
        "history_dict.keys()"
      ],
      "execution_count": null,
      "outputs": [
        {
          "output_type": "execute_result",
          "data": {
            "text/plain": [
              "dict_keys(['loss', 'accuracy', 'val_loss', 'val_accuracy'])"
            ]
          },
          "metadata": {
            "tags": []
          },
          "execution_count": 19
        }
      ]
    },
    {
      "cell_type": "code",
      "metadata": {
        "id": "orvr8_BqbxTB",
        "colab_type": "code",
        "colab": {
          "base_uri": "https://localhost:8080/",
          "height": 295
        },
        "outputId": "74dc5acd-1527-496d-f926-c9e0bd3a33f4"
      },
      "source": [
        "import matplotlib.pyplot as plt\n",
        "\n",
        "acc = history_dict['accuracy']\n",
        "val_acc = history_dict['val_accuracy']\n",
        "loss = history_dict['loss']\n",
        "val_loss = history_dict['val_loss']\n",
        "\n",
        "epochs = range(1, len(acc) + 1)\n",
        "\n",
        "# \"bo\" is for \"blue dot\"\n",
        "plt.plot(epochs, loss, 'bo', label='Training loss')\n",
        "# b is for \"solid blue line\"\n",
        "plt.plot(epochs, val_loss, 'b', label='Validation loss')\n",
        "plt.title('Training and validation loss')\n",
        "plt.xlabel('Epochs')\n",
        "plt.ylabel('Loss')\n",
        "plt.legend()\n",
        "\n",
        "plt.show()"
      ],
      "execution_count": null,
      "outputs": [
        {
          "output_type": "display_data",
          "data": {
            "image/png": "[encoded data removed]",
            "text/plain": [
              "<Figure size 432x288 with 1 Axes>"
            ]
          },
          "metadata": {
            "tags": [],
            "needs_background": "light"
          }
        }
      ]
    },
    {
      "cell_type": "code",
      "metadata": {
        "id": "rLY_eNSWby6Y",
        "colab_type": "code",
        "colab": {
          "base_uri": "https://localhost:8080/",
          "height": 295
        },
        "outputId": "9787f480-8063-45bc-bb95-b8308c45d14e"
      },
      "source": [
        "plt.clf()   # 図のクリア\n",
        "\n",
        "plt.plot(epochs, acc, 'bo', label='Training acc')\n",
        "plt.plot(epochs, val_acc, 'b', label='Validation acc')\n",
        "plt.title('Training and validation accuracy')\n",
        "plt.xlabel('Epochs')\n",
        "plt.ylabel('Accuracy')\n",
        "plt.legend()\n",
        "\n",
        "plt.show()"
      ],
      "execution_count": null,
      "outputs": [
        {
          "output_type": "display_data",
          "data": {
            "image/png": "[encoded data removed]",
            "text/plain": [
              "<Figure size 432x288 with 1 Axes>"
            ]
          },
          "metadata": {
            "tags": [],
            "needs_background": "light"
          }
        }
      ]
    },
    {
      "cell_type": "markdown",
      "metadata": {
        "id": "PzpXPRgjjeFj",
        "colab_type": "text"
      },
      "source": [
        "上記のグラフでは、点が訓練時の損失と正解率を、実線が検証時の損失と正解率をしている\n",
        "\n",
        "20エポックを過ぎたあたりから横ばいになっている  \n",
        "これが、過学習の一例となる  \n",
        "モデルの性能が、訓練用データでは高い一方で、見たことの無いデータではそれほど高くない\n",
        "このポイントをすぎると、モデルが最適化しすぎて、訓練用データでは特徴的であるが、テスト用データには一般化できない内部表現を学習している  \n",
        "\n",
        "このケースの場合、20エポックを過ぎたあたりで訓練をやめることで、過学習を防止することができる  \n",
        "過学習の防止は、callbackを使用または正則化を行う"
      ]
    }
  ]
}